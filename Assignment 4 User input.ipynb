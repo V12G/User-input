{
 "cells": [
  {
   "cell_type": "code",
   "execution_count": 1,
   "id": "1c23eb74",
   "metadata": {},
   "outputs": [
    {
     "name": "stdout",
     "output_type": "stream",
     "text": [
      "Enter your nameVaibhav Giri\n",
      "Vaibhav Giri\n"
     ]
    }
   ],
   "source": [
    "# Write a python script to take your name as input from the user and then print it.\n",
    "a=input(\"Enter your name\")\n",
    "print(a)"
   ]
  },
  {
   "cell_type": "code",
   "execution_count": 2,
   "id": "488cddab",
   "metadata": {},
   "outputs": [
    {
     "name": "stdout",
     "output_type": "stream",
     "text": [
      "Enter a number12\n",
      "Number is: 12\n"
     ]
    }
   ],
   "source": [
    "# Write a python script to take input from the user. Input must be a number.\n",
    "a=int(input(\"Enter a number\"))\n",
    "print(\"Number is:\",a)"
   ]
  },
  {
   "cell_type": "code",
   "execution_count": 3,
   "id": "22a314a4",
   "metadata": {},
   "outputs": [
    {
     "name": "stdout",
     "output_type": "stream",
     "text": [
      "Enter 1st number12\n",
      "Enter 2nd number10\n",
      "Sum is: 22\n"
     ]
    }
   ],
   "source": [
    "'''Write a python script which takes two numbers from the user, then calculate their sum\n",
    "and display the result.'''\n",
    "a=int(input(\"Enter 1st number\"))\n",
    "b=int(input(\"Enter 2nd number\"))\n",
    "c=a+b\n",
    "print(\"Sum is:\",c)"
   ]
  },
  {
   "cell_type": "code",
   "execution_count": 6,
   "id": "c7789f75",
   "metadata": {},
   "outputs": [
    {
     "name": "stdout",
     "output_type": "stream",
     "text": [
      "Enter the diameter of the circle12\n",
      "Radius of the circle is: 6.0\n"
     ]
    }
   ],
   "source": [
    "# Write a python script which takes the radius from the user and display area of a circle.\n",
    "r=eval(input(\"Enter the diameter of the circle\"))\n",
    "d=r/2\n",
    "print(\"Radius of the circle is:\",d)"
   ]
  },
  {
   "cell_type": "code",
   "execution_count": 7,
   "id": "2094bcbc",
   "metadata": {},
   "outputs": [
    {
     "name": "stdout",
     "output_type": "stream",
     "text": [
      "Enter a number12\n",
      "Squre of number is: 144\n"
     ]
    }
   ],
   "source": [
    "# Write a python script to calculate the square of a number. Number is entered by the user.\n",
    "a=int(input(\"Enter a number\"))\n",
    "b=a**2\n",
    "print(\"Squre of number is:\",b)"
   ]
  },
  {
   "cell_type": "code",
   "execution_count": 8,
   "id": "ecf25ba7",
   "metadata": {},
   "outputs": [
    {
     "name": "stdout",
     "output_type": "stream",
     "text": [
      "Enter the height of the triangle12\n",
      "Enter the base of triangle6.5\n",
      "Area of Triangle is 39.0\n"
     ]
    }
   ],
   "source": [
    "# Write a python script to calculate the area of Triangle. Number is entered by the user.\n",
    "a=eval(input(\"Enter the height of the triangle\"))\n",
    "b=eval(input(\"Enter the base of triangle\"))\n",
    "c=(a*b)/2\n",
    "print(\"Area of Triangle is\",c)"
   ]
  },
  {
   "cell_type": "code",
   "execution_count": 12,
   "id": "5dc787f3",
   "metadata": {},
   "outputs": [
    {
     "name": "stdout",
     "output_type": "stream",
     "text": [
      "Enter 1st number1\n",
      "Enter 2nd number2\n",
      "Enter 3rd number3\n",
      "Average of three number is: 2.0\n"
     ]
    }
   ],
   "source": [
    "# Write a python script to calculate average of three numbers, entered by the user.\n",
    "a=int(input(\"Enter 1st number\"))\n",
    "b=int(input(\"Enter 2nd number\"))\n",
    "c=int(input(\"Enter 3rd number\"))\n",
    "d=(a+b+c)/3\n",
    "print(\"Average of three number is:\",d)"
   ]
  },
  {
   "cell_type": "code",
   "execution_count": 14,
   "id": "35171295",
   "metadata": {},
   "outputs": [
    {
     "name": "stdout",
     "output_type": "stream",
     "text": [
      "Enter the principal amount:100\n",
      "Enter the interest rate:8.5\n",
      "Enter the tenure period:2\n",
      "Simple interest is: 17.0\n"
     ]
    }
   ],
   "source": [
    "# Write a python script to calculate simple interest.\n",
    "Pi=eval(input(\"Enter the principal amount:\"))\n",
    "In=eval(input(\"Enter the interest rate:\"))\n",
    "t=int(input(\"Enter the tenure period:\"))\n",
    "Si=(Pi*In*t)/100\n",
    "print(\"Simple interest is:\",Si)"
   ]
  },
  {
   "cell_type": "code",
   "execution_count": 15,
   "id": "d85d4bd2",
   "metadata": {},
   "outputs": [
    {
     "name": "stdout",
     "output_type": "stream",
     "text": [
      "Enter the height of cuboid12\n",
      "Enter the width of the cuboid9\n",
      "Enter the length of cuboid14\n",
      "Volume of cuboid is: 1512\n"
     ]
    }
   ],
   "source": [
    "# Write a python script to calculate the volume of a cuboid.\n",
    "h=eval(input('Enter the height of cuboid'))\n",
    "b=eval(input('Enter the width of the cuboid'))\n",
    "l=eval(input('Enter the length of cuboid'))\n",
    "v=h*b*l\n",
    "print(\"Volume of cuboid is:\",v)"
   ]
  },
  {
   "cell_type": "code",
   "execution_count": 16,
   "id": "95904c5d",
   "metadata": {},
   "outputs": [
    {
     "name": "stdout",
     "output_type": "stream",
     "text": [
      "Enter the length of the recantagle:12\n",
      "Enter the width of the rectangle:10\n",
      "Area of rctangle is: 120\n"
     ]
    }
   ],
   "source": [
    "# Write a python script to calculate area of a rectangle.\n",
    "l=eval(input(\"Enter the length of the recantagle:\"))\n",
    "w=eval(input(\"Enter the width of the rectangle:\"))\n",
    "a=l*w\n",
    "print(\"Area of rctangle is:\",a)"
   ]
  },
  {
   "cell_type": "code",
   "execution_count": null,
   "id": "ed52f8f1",
   "metadata": {},
   "outputs": [],
   "source": []
  }
 ],
 "metadata": {
  "kernelspec": {
   "display_name": "Python 3 (ipykernel)",
   "language": "python",
   "name": "python3"
  },
  "language_info": {
   "codemirror_mode": {
    "name": "ipython",
    "version": 3
   },
   "file_extension": ".py",
   "mimetype": "text/x-python",
   "name": "python",
   "nbconvert_exporter": "python",
   "pygments_lexer": "ipython3",
   "version": "3.9.7"
  }
 },
 "nbformat": 4,
 "nbformat_minor": 5
}
